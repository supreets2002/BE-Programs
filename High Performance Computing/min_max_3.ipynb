{
  "nbformat": 4,
  "nbformat_minor": 0,
  "metadata": {
    "colab": {
      "provenance": [],
      "gpuType": "T4"
    },
    "kernelspec": {
      "name": "python3",
      "display_name": "Python 3"
    },
    "language_info": {
      "name": "python"
    },
    "accelerator": "GPU"
  },
  "cells": [
    {
      "cell_type": "code",
      "execution_count": 8,
      "metadata": {
        "colab": {
          "base_uri": "https://localhost:8080/"
        },
        "id": "GGoxb3XVVJ1u",
        "outputId": "ecb04255-5f21-4902-a439-4800c879fcb7"
      },
      "outputs": [
        {
          "output_type": "stream",
          "name": "stdout",
          "text": [
            "Overwriting sum.cu\n"
          ]
        }
      ],
      "source": [
        "%%writefile sum.cu\n",
        "#include <iostream>\n",
        "#include <vector>\n",
        "#include <climits>\n",
        "\n",
        "__global__ void min_reduction_kernel(int* arr, int size, int* result) {\n",
        "    int tid = blockIdx.x * blockDim.x + threadIdx.x;\n",
        "    if (tid < size) {\n",
        "        atomicMin(result, arr[tid]);\n",
        "    }\n",
        "}\n",
        "\n",
        "__global__ void max_reduction_kernel(int* arr, int size, int* result) {\n",
        "    int tid = blockIdx.x * blockDim.x + threadIdx.x;\n",
        "    if (tid < size) {\n",
        "        atomicMax(result, arr[tid]);\n",
        "    }\n",
        "}\n",
        "\n",
        "__global__ void sum_reduction_kernel(int* arr, int size, int* result) {\n",
        "    int tid = blockIdx.x * blockDim.x + threadIdx.x;\n",
        "    if (tid < size) {\n",
        "        atomicAdd(result, arr[tid]);\n",
        "    }\n",
        "}\n",
        "\n",
        "__global__ void average_reduction_kernel(int* arr, int size, int* sum) {\n",
        "    int tid = blockIdx.x * blockDim.x + threadIdx.x;\n",
        "    if (tid < size) {\n",
        "        atomicAdd(sum, arr[tid]);\n",
        "    }\n",
        "}\n",
        "\n",
        "int main() {\n",
        "    int size;\n",
        "    std::cout << \"Enter the size of the array: \";\n",
        "    std::cin >> size;\n",
        "\n",
        "    std::vector<int> arr(size);\n",
        "    for (int i = 0; i < size; ++i) {\n",
        "        std::cout << \"Enter element \" << i << \": \";\n",
        "        std::cin >> arr[i];\n",
        "    }\n",
        "\n",
        "    int* d_arr;\n",
        "    int* d_result;\n",
        "    int result_min = INT_MAX;\n",
        "    int result_max = INT_MIN;\n",
        "    int result_sum = 0;\n",
        "\n",
        "    // Allocate memory on the device\n",
        "    cudaMalloc(&d_arr, size * sizeof(int));\n",
        "    cudaMalloc(&d_result, sizeof(int));\n",
        "\n",
        "    // Copy data from host to device\n",
        "    cudaMemcpy(d_arr, arr.data(), size * sizeof(int), cudaMemcpyHostToDevice);\n",
        "    cudaMemcpy(d_result, &result_min, sizeof(int), cudaMemcpyHostToDevice);\n",
        "\n",
        "    // Perform min reduction\n",
        "    min_reduction_kernel<<<(size + 255) / 256, 256>>>(d_arr, size, d_result);\n",
        "    cudaMemcpy(&result_min, d_result, sizeof(int), cudaMemcpyDeviceToHost);\n",
        "    std::cout << \"Minimum value: \" << result_min << std::endl;\n",
        "\n",
        "    // Perform max reduction\n",
        "    cudaMemcpy(d_result, &result_max, sizeof(int), cudaMemcpyHostToDevice);\n",
        "    max_reduction_kernel<<<(size + 255) / 256, 256>>>(d_arr, size, d_result);\n",
        "    cudaMemcpy(&result_max, d_result, sizeof(int), cudaMemcpyDeviceToHost);\n",
        "    std::cout << \"Maximum value: \" << result_max << std::endl;\n",
        "\n",
        "    // Perform sum reduction\n",
        "    cudaMemcpy(d_result, &result_sum, sizeof(int), cudaMemcpyHostToDevice);\n",
        "    sum_reduction_kernel<<<(size + 255) / 256, 256>>>(d_arr, size, d_result);\n",
        "    cudaMemcpy(&result_sum, d_result, sizeof(int), cudaMemcpyDeviceToHost);\n",
        "    std::cout << \"Sum: \" << result_sum << std::endl;\n",
        "\n",
        "    // Perform average reduction on CPU side\n",
        "    double average = static_cast<double>(result_sum) / size;\n",
        "    std::cout << \"Average: \" << average << std::endl;\n",
        "\n",
        "    // Free device memory\n",
        "    cudaFree(d_arr);\n",
        "    cudaFree(d_result);\n",
        "\n",
        "    return 0;\n",
        "}"
      ]
    },
    {
      "cell_type": "code",
      "source": [
        "!nvcc sum.cu -o sum\n",
        "!./sum"
      ],
      "metadata": {
        "colab": {
          "base_uri": "https://localhost:8080/"
        },
        "id": "bfuswmm2Zhui",
        "outputId": "7df9c350-e4c0-4f3a-e0d3-ed675b17d248"
      },
      "execution_count": 9,
      "outputs": [
        {
          "output_type": "stream",
          "name": "stdout",
          "text": [
            "Enter the size of the array: 5\n",
            "Enter element 0: 5\n",
            "Enter element 1: 12\n",
            "Enter element 2: 1\n",
            "Enter element 3: 10\n",
            "Enter element 4: 6\n",
            "Minimum value: 1\n",
            "Maximum value: 12\n",
            "Sum: 34\n",
            "Average: 6.8\n"
          ]
        }
      ]
    }
  ]
}